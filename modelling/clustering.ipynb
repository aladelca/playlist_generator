{
 "cells": [
  {
   "cell_type": "code",
   "execution_count": 2,
   "metadata": {},
   "outputs": [],
   "source": [
    "import pandas as pd\n",
    "import numpy as np\n",
    "import seaborn as sns\n",
    "import matplotlib.pyplot as plt\n",
    "#pip install spotipy\n",
    "import spotipy"
   ]
  },
  {
   "cell_type": "code",
   "execution_count": null,
   "metadata": {},
   "outputs": [],
   "source": []
  },
  {
   "cell_type": "code",
   "execution_count": null,
   "metadata": {},
   "outputs": [
    {
     "name": "stdout",
     "output_type": "stream",
     "text": [
      "Playlist 'Mi Playlist para meditar' creada con éxito\n"
     ]
    }
   ],
   "source": [
    "import spotipy\n",
    "from spotipy.oauth2 import SpotifyOAuth\n",
    "\n",
    "# Configuración\n",
    "CLIENT_ID = '###'\n",
    "CLIENT_SECRET = '##'\n",
    "REDIRECT_URI = 'http://localhost:8889'\n",
    "SCOPE = 'playlist-modify-public'\n",
    "\n",
    "# Autenticación con la API de Spotify\n",
    "sp = spotipy.Spotify(auth_manager=SpotifyOAuth(\n",
    "    client_id=CLIENT_ID,\n",
    "    client_secret=CLIENT_SECRET,\n",
    "    \n",
    "    redirect_uri=REDIRECT_URI,\n",
    "    scope=SCOPE\n",
    "))\n",
    "\n",
    "# Obtener el ID del usuario\n",
    "user_id = sp.current_user()['id']\n",
    "\n",
    "# Crear una nueva playlist\n",
    "playlist_name = \"Mi Playlist para meditar\"\n",
    "description = \"Playlist creada desde Python con Spotipy\"\n",
    "playlist = sp.user_playlist_create(user=user_id, name=playlist_name, public=True, description=description)\n",
    "print(f\"Playlist '{playlist_name}' creada con éxito\")\n",
    "\n"
   ]
  },
  {
   "cell_type": "code",
   "execution_count": 25,
   "metadata": {},
   "outputs": [],
   "source": [
    "#### Clustering model\n",
    "\n",
    "from sklearn.cluster import KMeans\n",
    "from sklearn.preprocessing import StandardScaler\n",
    "VARS = [\n",
    "    \"duration\",\n",
    "    \"popularity\",\n",
    "    \"danceability\",\n",
    "    \"energy\",\n",
    "    \"loudness\",\n",
    "    \"instrumentalness\",\n",
    "]\n",
    "dataset = pd.read_excel(\"../data/dataset.xlsx\")\n",
    "train  = dataset[VARS]\n",
    "scaler = StandardScaler()\n",
    "train_scaled = scaler.fit_transform(train)\n",
    "modelo_kmeans = KMeans(n_clusters=8, random_state=123)\n",
    "modelo_kmeans.fit(train_scaled)\n",
    "dataset[\"cluster_kmeans\"] = modelo_kmeans.labels_\n",
    "df_grouped = dataset.groupby(\"cluster_kmeans\").agg(\n",
    "    {\n",
    "        \"duration\": \"mean\",\n",
    "        \"popularity\": \"mean\",\n",
    "        \"danceability\": \"mean\",\n",
    "        \"energy\": \"mean\",\n",
    "        \"loudness\": \"mean\",\n",
    "        \"instrumentalness\": \"mean\",\n",
    "    }\n",
    ").reset_index()\n",
    "\n",
    "cluster_number = df_grouped.sort_values(\"loudness\", ascending = True).head(1)[\"cluster_kmeans\"].values[0]\n",
    "track_id = list(dataset[dataset[\"cluster_kmeans\"] == cluster_number].sort_values(\"loudness\", ascending = True).head(20)['id'])\n"
   ]
  },
  {
   "cell_type": "code",
   "execution_count": 37,
   "metadata": {},
   "outputs": [
    {
     "data": {
      "text/html": [
       "<div>\n",
       "<style scoped>\n",
       "    .dataframe tbody tr th:only-of-type {\n",
       "        vertical-align: middle;\n",
       "    }\n",
       "\n",
       "    .dataframe tbody tr th {\n",
       "        vertical-align: top;\n",
       "    }\n",
       "\n",
       "    .dataframe thead th {\n",
       "        text-align: right;\n",
       "    }\n",
       "</style>\n",
       "<table border=\"1\" class=\"dataframe\">\n",
       "  <thead>\n",
       "    <tr style=\"text-align: right;\">\n",
       "      <th></th>\n",
       "      <th>cluster_kmeans</th>\n",
       "      <th>duration</th>\n",
       "      <th>popularity</th>\n",
       "      <th>danceability</th>\n",
       "      <th>energy</th>\n",
       "      <th>loudness</th>\n",
       "      <th>instrumentalness</th>\n",
       "    </tr>\n",
       "  </thead>\n",
       "  <tbody>\n",
       "    <tr>\n",
       "      <th>0</th>\n",
       "      <td>0</td>\n",
       "      <td>388879.590164</td>\n",
       "      <td>46.606557</td>\n",
       "      <td>0.419131</td>\n",
       "      <td>0.567820</td>\n",
       "      <td>-9.329344</td>\n",
       "      <td>0.242351</td>\n",
       "    </tr>\n",
       "    <tr>\n",
       "      <th>1</th>\n",
       "      <td>1</td>\n",
       "      <td>213636.496970</td>\n",
       "      <td>1.587879</td>\n",
       "      <td>0.410192</td>\n",
       "      <td>0.208788</td>\n",
       "      <td>-13.913527</td>\n",
       "      <td>0.016946</td>\n",
       "    </tr>\n",
       "    <tr>\n",
       "      <th>2</th>\n",
       "      <td>2</td>\n",
       "      <td>251480.991870</td>\n",
       "      <td>15.219512</td>\n",
       "      <td>0.544512</td>\n",
       "      <td>0.212396</td>\n",
       "      <td>-17.237984</td>\n",
       "      <td>0.826496</td>\n",
       "    </tr>\n",
       "    <tr>\n",
       "      <th>3</th>\n",
       "      <td>3</td>\n",
       "      <td>224424.019900</td>\n",
       "      <td>60.616915</td>\n",
       "      <td>0.481527</td>\n",
       "      <td>0.628308</td>\n",
       "      <td>-7.408995</td>\n",
       "      <td>0.032457</td>\n",
       "    </tr>\n",
       "    <tr>\n",
       "      <th>4</th>\n",
       "      <td>4</td>\n",
       "      <td>196633.390756</td>\n",
       "      <td>72.634454</td>\n",
       "      <td>0.711424</td>\n",
       "      <td>0.740336</td>\n",
       "      <td>-5.843941</td>\n",
       "      <td>0.043936</td>\n",
       "    </tr>\n",
       "    <tr>\n",
       "      <th>5</th>\n",
       "      <td>5</td>\n",
       "      <td>207538.780822</td>\n",
       "      <td>9.157534</td>\n",
       "      <td>0.671356</td>\n",
       "      <td>0.372399</td>\n",
       "      <td>-10.844192</td>\n",
       "      <td>0.030632</td>\n",
       "    </tr>\n",
       "    <tr>\n",
       "      <th>6</th>\n",
       "      <td>6</td>\n",
       "      <td>642297.100000</td>\n",
       "      <td>37.550000</td>\n",
       "      <td>0.368350</td>\n",
       "      <td>0.443295</td>\n",
       "      <td>-12.624450</td>\n",
       "      <td>0.258124</td>\n",
       "    </tr>\n",
       "    <tr>\n",
       "      <th>7</th>\n",
       "      <td>7</td>\n",
       "      <td>266770.562500</td>\n",
       "      <td>47.900000</td>\n",
       "      <td>0.433087</td>\n",
       "      <td>0.180125</td>\n",
       "      <td>-16.398475</td>\n",
       "      <td>0.074109</td>\n",
       "    </tr>\n",
       "  </tbody>\n",
       "</table>\n",
       "</div>"
      ],
      "text/plain": [
       "   cluster_kmeans       duration  popularity  danceability    energy  \\\n",
       "0               0  388879.590164   46.606557      0.419131  0.567820   \n",
       "1               1  213636.496970    1.587879      0.410192  0.208788   \n",
       "2               2  251480.991870   15.219512      0.544512  0.212396   \n",
       "3               3  224424.019900   60.616915      0.481527  0.628308   \n",
       "4               4  196633.390756   72.634454      0.711424  0.740336   \n",
       "5               5  207538.780822    9.157534      0.671356  0.372399   \n",
       "6               6  642297.100000   37.550000      0.368350  0.443295   \n",
       "7               7  266770.562500   47.900000      0.433087  0.180125   \n",
       "\n",
       "    loudness  instrumentalness  \n",
       "0  -9.329344          0.242351  \n",
       "1 -13.913527          0.016946  \n",
       "2 -17.237984          0.826496  \n",
       "3  -7.408995          0.032457  \n",
       "4  -5.843941          0.043936  \n",
       "5 -10.844192          0.030632  \n",
       "6 -12.624450          0.258124  \n",
       "7 -16.398475          0.074109  "
      ]
     },
     "execution_count": 37,
     "metadata": {},
     "output_type": "execute_result"
    }
   ],
   "source": [
    "df_grouped"
   ]
  },
  {
   "cell_type": "code",
   "execution_count": 30,
   "metadata": {},
   "outputs": [],
   "source": [
    "import pickle\n",
    "with open('../models/modelo_kmeans.pkl', 'wb') as file:\n",
    "    pickle.dump(modelo_kmeans, file)\n",
    "\n",
    "with open('../models/scaler.pkl', 'wb') as file:\n",
    "    pickle.dump(scaler, file)"
   ]
  },
  {
   "cell_type": "code",
   "execution_count": 26,
   "metadata": {},
   "outputs": [
    {
     "data": {
      "text/plain": [
       "{'snapshot_id': 'AAAAAqXvFJBuucRlCYhIyHe5sppc21ac'}"
      ]
     },
     "execution_count": 26,
     "metadata": {},
     "output_type": "execute_result"
    }
   ],
   "source": [
    "# Añadir canciones a la playlist (usando IDs de canciones)\n",
    "\n",
    "sp.playlist_add_items(playlist_id=playlist['id'], items=track_id)\n",
    "\n"
   ]
  }
 ],
 "metadata": {
  "kernelspec": {
   "display_name": "Python 3",
   "language": "python",
   "name": "python3"
  },
  "language_info": {
   "codemirror_mode": {
    "name": "ipython",
    "version": 3
   },
   "file_extension": ".py",
   "mimetype": "text/x-python",
   "name": "python",
   "nbconvert_exporter": "python",
   "pygments_lexer": "ipython3",
   "version": "3.12.2"
  }
 },
 "nbformat": 4,
 "nbformat_minor": 2
}
